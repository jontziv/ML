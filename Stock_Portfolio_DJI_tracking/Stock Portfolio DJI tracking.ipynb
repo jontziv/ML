
## Optimal Portfolio Selection
Getting Down Jowns Index Tickers
import pandas as pd
import yfinance as yf
import seaborn as sns
pd.read_html("https://en.wikipedia.org/wiki/Dow_Jones_Industrial_Average")
const = pd.read_html("https://en.wikipedia.org/wiki/Dow_Jones_Industrial_Average")[1]
const = const.iloc[:, :5].copy()
const
const.Symbol[1]
const.Symbol.to_list()
const.info()
#const.Symbol.apply(lambda x: unicodedata.normalize("NFKD", x))
#const.Symbol = const.Symbol.apply(lambda x: unicodedata.normalize("NFKD", x))
const["Ticker"] = const.Symbol.str.split(": ").apply(lambda x: x[-1])
ticker_list = const.Ticker.to_list()
ticker_list
## Getting prices from Yahoo Finance
prices = yf.download(ticker_list, start = "2007-01-01", end = "2023-12-31")
prices.info()
pd.set_option('display.max_columns', None)
prices.head()
prices = prices.loc[:,"Close"].copy()
prices.shape
dji = yf.download("^DJI", start = "2007-01-01",  end = "2023-12-31")
dji.info()
prices.to_csv("const_prices.csv")
dji.to_csv("dji.csv")
const = pd.read_csv("const_prices.csv", parse_dates = ["Date"], index_col = "Date")
dji = pd.read_csv("dji.csv", parse_dates = ["Date"], index_col = "Date")
dji = dji.Close.to_frame().copy()
df = pd.concat([const, dji], axis = 1)
df
df.rename(columns = {"Close": "DJI"}, inplace = True)
more_info = pd.read_csv("const.csv")
more_info
## Data Transformation
const.head()
import matplotlib.pyplot as plt
import numpy as np
plt.style.use("seaborn")
df.plot(figsize = (20, 12), fontsize = 15, secondary_y = "DJI")
plt.show()
df.div(df.iloc[0]).mul(100)
norm = df.div(df.iloc[0]).mul(100)
norm.plot(figsize = (20, 12), fontsize = 15)
plt.legend(fontsize = 12)
plt.show()
norm.drop(columns =["AMZN","AAPL"]).plot(figsize = (20, 12), fontsize = 15)
plt.legend(fontsize = 12)
plt.show()
ret = df.pct_change()
ret.describe()

def summary_ann(returns):
    summary = returns.agg(["mean", "std"]).T
    summary["Return"] = summary["mean"] * 252
    summary["Risk"] = summary["std"] * np.sqrt(252)
    summary.drop(columns = ["mean", "std"], inplace = True)
    return summary
summary = summary_ann(ret)
summary
summary = summary.merge(more_info.loc[:, ["Ticker", "Company"]],
                        how = "left", left_index= True, right_on = "Ticker")

summary.set_index("Company", inplace = True)
summary
## Exploratory Data Analysis

summary.sort_values(by = "Return", ascending = False).plot(kind = "bar", figsize = (20, 12), 
                                                            fontsize = 15)
plt.legend(fontsize = 15)
plt.show()

summary.sort_values(by = "Risk", ascending = False).plot(kind = "bar", figsize = (20, 12), 
                                                          fontsize = 15)
plt.legend(fontsize = 15)
plt.show()


corr_matrix = ret.corr()
plt.figure(figsize = (20, 12))
sns.heatmap(corr_matrix, cmap='RdYlGn',annot=True, vmin = 0.2, vmax = 0.8)
plt.show()
Goal: Selecting 10 Stocks with the lowest individual Tracking Error (TE) in the Training/Fitting Period.

Training/Fitting Period: 2017 & 2022
(Forward) Testing Period: 2023
df2 = df.loc["2022":"2023"].copy()
norm2 = df2.div(df2.iloc[0]).mul(100)
ret2 = ret.loc["2022":"2023"].copy()
ret_diff = ret2.sub(ret2.DJI, axis = 0)
## Stock Selection
def tracking_ann(returns):
    summary = returns.agg(["mean", "std"]).T
    summary["Premium"] = summary["mean"] * 252
    summary["TE"] = summary["std"] * np.sqrt(252)
    summary.drop(columns = ["mean", "std"], inplace = True)
    return summary
tracking = tracking_ann(ret_diff)
tracking
tracking.sort_values(by = "TE")
noa = 10
tracking_stocks = tracking.sort_values(by = "TE").index[:noa+1]
norm_track = norm2.loc[:, tracking_stocks]
norm_track.plot(figsize = (20, 12), fontsize = 15)
plt.legend(fontsize = 12)
plt.show()
tracking_stocks = tracking_stocks[1:]
tracking_stocks
## Optimum portfolio
import scipy.optimize as sco #import scipy optimize
cons = ({"type": "eq", "fun": lambda x: np.sum(x) - 1})
cons
bnds =  tuple((0,1) for x in range(noa))
bnds
eweights = np.full(noa, 1/noa)
eweights
ret2.loc[:, tracking_stocks].mean(axis = 1)
ret2.loc[:, tracking_stocks].dot(eweights)

def port_ret(weights):
    return ret2.loc[:, tracking_stocks].dot(weights)
def tracking_error(weights): 
     return port_ret(weights).sub(ret2.DJI).std() * np.sqrt(252)
opts = sco.minimize(tracking_error, eweights, method = "SLSQP", bounds = bnds, constraints= cons)
#output of optimization
opts
#getting the optimal weights
optimal_weights = opts["x"]
optimal_weights
pd.Series(index = tracking_stocks, data = optimal_weights)
opt_port = port_ret(optimal_weights)[1:].add(1).cumprod().mul(100)
norm_track["Opt_Port"] = opt_port
norm_track.iloc[0, -1] = 100
norm_track[["Opt_Port", "DJI"]].plot(figsize = (15, 10))
plt.legend(fontsize = 20, loc = 2)
plt.show()
summary_ann(norm_track[["Opt_Port", "DJI"]].pct_change())

ret

##Forward Testing
def tracking_error_gen(data, tracking_stocks, weights, index, start, end):
    return data.loc[start:end, tracking_stocks].dot(weights).sub(ret.loc[start:end, index]).std() * np.sqrt(252)
def visual(data, tracking_stocks, weights, index, start, end):
    track = data.loc[start:end, tracking_stocks].dot(weights).add(1).cumprod().mul(100)
    track.name = "Portfolio"
    index = data.loc[start:end, index].add(1).cumprod().mul(100)
    plt.figure(figsize = (12,8))
    track.plot()
    index.plot()
    plt.legend(fontsize = 20, loc = 2)
    plt.show()
tracking_error_gen(ret, tracking_stocks, optimal_weights, "DJI", "2007-01-01", "2022-12-31")
forward_te = tracking_error_gen(ret, tracking_stocks, optimal_weights, "DJI", 
                                "2023-01-01", "2023-12-31")
forward_te
visual(ret, tracking_stocks, optimal_weights, "DJI", "2023-01-01", "2023-12-31")
bucket = df.columns.drop(["DOW", "DJI"])
np.random.choice(bucket, size = noa, replace = False)
random_numbers = np.random.random(noa)
random_weights = random_numbers / random_numbers.sum()
random_weights.sum()
np.random.seed(123)
random_stocks = np.random.choice(bucket, size = noa, replace = False)
random_numbers = np.random.random(noa)
random_weights = random_numbers / random_numbers.sum()
print(random_stocks, random_weights)
tracking_error_gen(ret, random_stocks, random_weights, "DJI", "2007-01-01", "2022-12-31")
forward_te_r = tracking_error_gen(ret, random_stocks, random_weights, "DJI", 
                                "2023-01-01", "2023-12-31")
forward_te_r
visual(ret, random_stocks, random_weights, "DJI", "2023-01-01", "2023-12-31")
tes = np.empty(10000)
np.random.seed(123)
for i in range(10000):
    random_numbers = np.random.random(noa)
    random_weights = random_numbers / random_numbers.sum()
    random_stocks = np.random.choice(bucket, size = noa, replace = False)
       
    tes[i] = tracking_error_gen(ret, random_stocks, random_weights, "DJI", "2023-01-01", "2023-12-31")
(tes < forward_te).mean()
plt.figure(figsize = (12, 8))
plt.hist(tes, bins = 100)
plt.show()

